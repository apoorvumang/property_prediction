{
 "cells": [
  {
   "cell_type": "code",
   "execution_count": 1,
   "metadata": {},
   "outputs": [],
   "source": [
    "import torch\n",
    "from torch import nn\n",
    "import numpy as np"
   ]
  },
  {
   "cell_type": "code",
   "execution_count": 2,
   "metadata": {},
   "outputs": [],
   "source": [
    "f = open('train.csv')\n",
    "lines = []\n",
    "for line in f:\n",
    "    lines.append(line.strip())\n",
    "f.close()"
   ]
  },
  {
   "cell_type": "code",
   "execution_count": 3,
   "metadata": {},
   "outputs": [],
   "source": [
    "data = []\n",
    "for line in lines[1:]:\n",
    "    line = line.split(',')\n",
    "    if len(line) != 3:\n",
    "        print('Error: ', line)\n",
    "        break\n",
    "    data.append([line[1], int(line[2])])"
   ]
  },
  {
   "cell_type": "code",
   "execution_count": 4,
   "metadata": {},
   "outputs": [
    {
     "data": {
      "text/plain": [
       "2097"
      ]
     },
     "execution_count": 4,
     "metadata": {},
     "output_type": "execute_result"
    }
   ],
   "source": [
    "len(data)"
   ]
  },
  {
   "cell_type": "code",
   "execution_count": 5,
   "metadata": {},
   "outputs": [],
   "source": [
    "# import json\n",
    "\n",
    "# full_text = ''\n",
    "# for d in data:\n",
    "#     full_text = full_text + d[]\n",
    "    \n",
    "# # Join all the sentences together and extract the unique characters from the combined sentences\n",
    "# chars = set(full_text)\n",
    "\n",
    "# # Creating a dictionary that maps integers to the characters\n",
    "# int2char = dict(enumerate(chars))\n",
    "\n",
    "# # Creating another dictionary that maps characters to integers\n",
    "# char2int = {char: ind for ind, char in int2char.items()}\n",
    "\n",
    "# with open('char2int.json', 'w') as file:\n",
    "#      json.dump(char2int, file) # use `json.loads` to do the reverse\n"
   ]
  },
  {
   "cell_type": "code",
   "execution_count": 6,
   "metadata": {},
   "outputs": [],
   "source": [
    "import json\n",
    "\n",
    "char2int = {}\n",
    "with open('char2int.json') as file:\n",
    "     char2int = json.load(file)\n"
   ]
  },
  {
   "cell_type": "code",
   "execution_count": 7,
   "metadata": {},
   "outputs": [],
   "source": [
    "# valid_size = 300\n",
    "# valid = data[:valid_size]\n",
    "# train = data[valid_size:]"
   ]
  },
  {
   "cell_type": "code",
   "execution_count": 8,
   "metadata": {},
   "outputs": [],
   "source": [
    "def writeToFile(fname, data):\n",
    "    f = open(fname, 'w')\n",
    "    for d in data:\n",
    "        line = d[0] + '\\t' + str(d[1])\n",
    "        f.write(line + '\\n')\n",
    "    f.close()\n",
    "def readFile(fname):\n",
    "    lines = []\n",
    "    f = open(fname, 'r')\n",
    "    for line in f:\n",
    "        line = line.strip().split('\\t')\n",
    "        line[1] = int(line[1])\n",
    "        lines.append(line)\n",
    "    return lines"
   ]
  },
  {
   "cell_type": "code",
   "execution_count": 9,
   "metadata": {},
   "outputs": [],
   "source": [
    "# writeToFile('train.txt', train)\n",
    "# writeToFile('valid.txt', valid)\n",
    "valid = readFile('valid.txt')\n",
    "train = readFile('train.txt')"
   ]
  },
  {
   "cell_type": "code",
   "execution_count": 10,
   "metadata": {},
   "outputs": [],
   "source": [
    "def getMaxLength(data):\n",
    "    maxlen = 0\n",
    "    for d in data:\n",
    "        if len(d[0]) > maxlen:\n",
    "            maxlen = len(d[0])\n",
    "    return maxlen\n",
    "\n",
    "def strToLong(s, char2int, max_length):\n",
    "    out = []\n",
    "    for char in s:\n",
    "        out.append(char2int[char])\n",
    "    for _ in range(max_length - len(s)):\n",
    "        out.append(0)\n",
    "    return np.array(out, dtype=np.long)\n",
    "\n",
    "def make_batch(data, char2int):\n",
    "    X = []\n",
    "    Y = []\n",
    "    lengths = []\n",
    "    max_length = getMaxLength(data)\n",
    "    for d in data:\n",
    "        x = d[0]\n",
    "        y = d[1]\n",
    "        Y.append(float(y))\n",
    "        X.append(strToLong(x, char2int, max_length))\n",
    "        lengths.append(len(x))\n",
    "    X = np.stack(X, axis=0)\n",
    "    Y = np.array(Y)\n",
    "    return X, lengths, Y"
   ]
  },
  {
   "cell_type": "code",
   "execution_count": 11,
   "metadata": {},
   "outputs": [
    {
     "data": {
      "text/plain": [
       "(array([[41, 38, 27, ...,  0,  0,  0],\n",
       "        [38, 13, 41, ...,  0,  0,  0],\n",
       "        [38, 43,  6, ...,  0,  0,  0],\n",
       "        ...,\n",
       "        [38, 38, 14, ...,  0,  0,  0],\n",
       "        [43, 38, 38, ...,  0,  0,  0],\n",
       "        [38, 38, 38, ..., 43, 19, 43]]),\n",
       " [17, 20, 40, 39, 22, 26, 21, 58, 30, 128],\n",
       " array([0., 0., 0., 0., 0., 0., 0., 0., 0., 0.]))"
      ]
     },
     "execution_count": 11,
     "metadata": {},
     "output_type": "execute_result"
    }
   ],
   "source": [
    "make_batch(train[:10], char2int)"
   ]
  },
  {
   "cell_type": "code",
   "execution_count": 12,
   "metadata": {},
   "outputs": [],
   "source": [
    "import torch.nn as nn\n",
    "\n",
    "class classifier(nn.Module):\n",
    "    \n",
    "    #define all the layers used in model\n",
    "    def __init__(self, vocab_size, embedding_dim, hidden_dim, output_dim, n_layers, \n",
    "                 bidirectional, dropout):\n",
    "        \n",
    "        #Constructor\n",
    "        super().__init__()          \n",
    "        \n",
    "        #embedding layer\n",
    "        self.embedding = nn.Embedding(vocab_size, embedding_dim)\n",
    "        \n",
    "        #lstm layer\n",
    "        self.lstm = nn.LSTM(embedding_dim, \n",
    "                           hidden_dim, \n",
    "                           num_layers=n_layers, \n",
    "                           bidirectional=bidirectional, \n",
    "                           dropout=dropout,\n",
    "                           batch_first=True)\n",
    "        \n",
    "        #dense layer\n",
    "        self.fc = nn.Linear(hidden_dim * 2, output_dim)\n",
    "        \n",
    "        #activation function\n",
    "        self.act = nn.Sigmoid()\n",
    "        \n",
    "    def forward(self, text, text_lengths):\n",
    "        \n",
    "        #text = [batch size,sent_length]\n",
    "        embedded = self.embedding(text)\n",
    "        #embedded = [batch size, sent_len, emb dim]\n",
    "      \n",
    "        #packed sequence\n",
    "        packed_embedded = nn.utils.rnn.pack_padded_sequence(embedded, text_lengths,batch_first=True,enforce_sorted=False)\n",
    "        \n",
    "        packed_output, (hidden, cell) = self.lstm(packed_embedded)\n",
    "        #hidden = [batch size, num layers * num directions,hid dim]\n",
    "        #cell = [batch size, num layers * num directions,hid dim]\n",
    "        \n",
    "        #concat the final forward and backward hidden state\n",
    "        hidden = torch.cat((hidden[-2,:,:], hidden[-1,:,:]), dim = 1)\n",
    "                \n",
    "        #hidden = [batch size, hid dim * num directions]\n",
    "        dense_outputs=self.fc(hidden)\n",
    "\n",
    "        #Final activation function\n",
    "        outputs=self.act(dense_outputs)\n",
    "        \n",
    "        return outputs\n"
   ]
  },
  {
   "cell_type": "code",
   "execution_count": 35,
   "metadata": {},
   "outputs": [
    {
     "name": "stdout",
     "output_type": "stream",
     "text": [
      "classifier(\n",
      "  (embedding): Embedding(44, 50)\n",
      "  (lstm): LSTM(50, 128, num_layers=2, batch_first=True, dropout=0.2, bidirectional=True)\n",
      "  (fc): Linear(in_features=256, out_features=1, bias=True)\n",
      "  (act): Sigmoid()\n",
      ")\n",
      "The model has 582,041 trainable parameters\n"
     ]
    }
   ],
   "source": [
    "#define hyperparameters\n",
    "size_of_vocab = len(char2int)\n",
    "embedding_dim = 50\n",
    "num_hidden_nodes = 128\n",
    "num_output_nodes = 1\n",
    "num_layers = 2\n",
    "bidirection = True\n",
    "dropout = 0.2\n",
    "\n",
    "#instantiate the model\n",
    "model = classifier(size_of_vocab, embedding_dim, num_hidden_nodes,num_output_nodes, num_layers, \n",
    "                   bidirectional = True, dropout = dropout)\n",
    "\n",
    "print(model)\n",
    "\n",
    "#No. of trianable parameters\n",
    "def count_parameters(model):\n",
    "    return sum(p.numel() for p in model.parameters() if p.requires_grad)\n",
    "    \n",
    "print(f'The model has {count_parameters(model):,} trainable parameters')\n"
   ]
  },
  {
   "cell_type": "code",
   "execution_count": 36,
   "metadata": {},
   "outputs": [],
   "source": [
    "import torch.optim as optim\n",
    "from sklearn.metrics import roc_auc_score\n",
    "from sklearn.metrics import precision_recall_curve\n",
    "from sklearn.metrics import f1_score\n",
    "from sklearn.metrics import auc\n",
    "\n",
    "#define metric\n",
    "def binary_accuracy(preds, y):\n",
    "    #round predictions to the closest integer\n",
    "    rounded_preds = torch.round(preds)\n",
    "    \n",
    "    correct = (rounded_preds == y).float() \n",
    "    acc = correct.sum() / len(correct)\n",
    "    return acc\n",
    "    \n",
    "def aucroc(preds, y):\n",
    "    y_true = y.cpu().detach().numpy()\n",
    "    y_scores = preds.cpu().detach().numpy()\n",
    "    return roc_auc_score(y_true, y_scores)\n",
    "\n",
    "def aucprc(preds, y):\n",
    "    y_true = y.cpu().detach().numpy()\n",
    "    y_scores = preds.cpu().detach().numpy()\n",
    "    lr_precision, lr_recall, _ = precision_recall_curve(y_true, y_scores)\n",
    "    return auc(lr_recall, lr_precision)\n",
    "    \n",
    "device = torch.device('cuda:4' if torch.cuda.is_available() else 'cpu')  \n",
    "\n",
    "\n",
    "#define optimizer and loss\n",
    "optimizer = optim.Adam(model.parameters())\n",
    "criterion = nn.BCELoss()\n",
    "\n",
    "#push to cuda if available\n",
    "model = model.to(device)\n",
    "criterion = criterion.to(device)\n"
   ]
  },
  {
   "cell_type": "code",
   "execution_count": 37,
   "metadata": {},
   "outputs": [],
   "source": [
    "model.train()\n",
    "optimizer.zero_grad()   "
   ]
  },
  {
   "cell_type": "code",
   "execution_count": null,
   "metadata": {},
   "outputs": [
    {
     "name": "stdout",
     "output_type": "stream",
     "text": [
      "0 0.6505190311418685 0.054328977857316135 5.956994682084769\n",
      "20 0.5885498584460522 0.27435090019721065 0.6053315056487918\n",
      "40 0.6215791129285939 0.36486437668512606 0.012201645802974781\n",
      "60 0.6231519345706197 0.36724067261638 0.0028306645106113137\n",
      "80 0.6190625983013526 0.35002910329769454 0.0014214542682111642\n",
      "100 0.6203208556149733 0.3460895165674008 0.0007451365611359506\n",
      "120 0.6281849638251022 0.34639606249131205 0.00045615723670522357\n",
      "140 0.6341616860648002 0.34507787553098296 0.0003048018501203842\n",
      "160 0.629757785467128 0.3395365255281794 0.0002196003405998681\n",
      "180 0.6310160427807486 0.3400911505446539 0.00014260630620555048\n",
      "200 0.6288140924819124 0.339138770291485 0.00010910656236262639\n",
      "220 0.6275558351682919 0.3395354852131061 7.524757818089256e-05\n",
      "240 0.6215791129285939 0.33711247134229033 4.5834045174331095e-05\n",
      "260 0.590122680088078 0.3244101926446652 4.633268756037978e-05\n",
      "280 0.6272412708398867 0.33375527715894904 2.3036921277252986e-05\n",
      "300 0.6209499842717836 0.3331658034658093 1.8205704151341706e-05\n",
      "320 0.627870399496697 0.340014193426479 1.2809596265483947e-05\n",
      "340 0.6284995281535074 0.33874300053662343 1.0100501377507953e-05\n",
      "360 0.629757785467128 0.33532054648834625 6.8238755992489075e-06\n",
      "380 0.62378106322743 0.3348436341067075 4.809380284243048e-06\n",
      "400 0.6266121421830765 0.3340345574714108 3.413497058790682e-06\n",
      "420 0.5957848379993708 0.3423809113227376 0.16004393089951918\n",
      "440 0.635734507706826 0.3539315730656435 0.0020619496284908223\n",
      "460 0.6420257942749291 0.35046832031286185 0.0009268766195020817\n",
      "480 0.6423403586033344 0.351035736970445 0.0004503768264214614\n",
      "500 0.6426549229317395 0.350856268497982 0.00028465071784467\n",
      "520 0.6423403586033345 0.3509135663841313 0.00018417990156649466\n",
      "540 0.6461151305441963 0.3524461426255032 0.00013681716586688708\n",
      "560 0.6458005662157912 0.3498798719406654 0.00010326219504008805\n",
      "580 0.6448568732305757 0.3473021284930731 6.495226114111574e-05\n",
      "600 0.6458005662157911 0.3468946769987508 6.58152508528076e-05\n",
      "620 0.6451714375589808 0.3467582096371011 3.2875456629000155e-05\n",
      "640 0.6461151305441963 0.3485394041993165 2.3736331653534393e-05\n",
      "660 0.6489462094998427 0.3526054984346582 1.947548859693171e-05\n",
      "680 0.6533501100975149 0.3528892081723873 1.3804335145639612e-05\n",
      "700 0.6542938030827304 0.3548778749625532 1.2296323061100622e-05\n",
      "720 0.6552374960679459 0.35736965796524645 7.2252693072982765e-06\n",
      "740 0.6561811890531614 0.35739238942803453 6.1030171993881055e-06\n",
      "760 0.6580685750235923 0.35517205428038656 4.489196631318748e-06\n",
      "780 0.6631016042780749 0.3555355657001453 3.4719939137062283e-06\n",
      "800 0.6656181189053161 0.35826275879323943 2.718543129498485e-06\n",
      "820 0.6659326832337213 0.35836335625649013 2.041468403213287e-06\n",
      "840 0.6684491978609626 0.3559442622854685 1.4081627104367556e-06\n",
      "860 0.6697074551745832 0.35590195451512113 1.2405250302549575e-06\n",
      "880 0.6697074551745832 0.3558421642193137 8.372603617079477e-07\n",
      "900 0.6709657124882038 0.35594106869092607 6.090859794305459e-07\n",
      "920 0.6722239698018244 0.3538855650157112 4.7460235896856773e-07\n",
      "940 0.6731676627870399 0.35619532947150984 3.892932003424221e-07\n",
      "960 0.6734822271154451 0.3562189038757584 2.589078282877466e-07\n",
      "980 0.6741113557722554 0.3563404065836648 1.965091416256115e-07\n",
      "1000 0.6753696130858761 0.3542400908426283 1.4435505168997054e-07\n",
      "1020 0.6778861277131173 0.3544418554668998 1.2349339795214576e-07\n",
      "1040 0.6763133060710915 0.3542888935204316 8.288773600817478e-08\n",
      "1060 0.6769424347279019 0.35438402667513097 4.9360102449824694e-08\n",
      "1080 0.6744259201006606 0.35026340469325695 8.288772934683664e-08\n",
      "1100 0.6785152563699277 0.3545769312841382 2.700835755042874e-08\n",
      "1120 0.6766278703994967 0.35235755845197503 3.073364807093526e-08\n",
      "1140 0.6778861277131173 0.35681502015079664 1.8626453490711015e-08\n",
      "1160 0.6775715633847122 0.3567733628041112 8.381903837673121e-09\n",
      "1180 0.6775715633847121 0.3591556421079102 4.6566133171666024e-09\n",
      "1200 0.6778861277131173 0.3568832073043837 4.6566133171666024e-09\n",
      "1220 0.6791443850267379 0.3594509991828178 8.381904059717726e-09\n",
      "1240 0.6788298206983328 0.3595749207018849 1.862645371275562e-09\n",
      "1260 0.6807172066687638 0.35973101368288946 0.0\n",
      "1280 0.6807172066687638 0.3597465282859422 9.313225746154785e-10\n",
      "1300 0.6797735136835483 0.35959930948303476 0.0\n",
      "1320 0.6807172066687638 0.36229760955868273 0.0\n",
      "1340 0.6797735136835483 0.3623415660694524 0.0\n",
      "1360 0.6756841774142812 0.361661831867826 1.862645371275562e-09\n",
      "1380 0.6747404844290659 0.3565280348250055 1.862645371275562e-09\n",
      "1400 0.6763133060710915 0.35671493257440207 0.0\n",
      "1420 0.6813463353255741 0.3622994140764064 1.862645371275562e-09\n",
      "1440 0.6800880780119534 0.35719044232360636 0.0\n",
      "1460 0.6807172066687638 0.3596367395239873 0.0\n",
      "1480 0.6782006920415226 0.3570104831189005 1.862645371275562e-09\n",
      "1500 0.679144385026738 0.3594861082095675 0.0\n",
      "1520 0.6819754639823844 0.3624108457332395 0.0\n",
      "1540 0.6791443850267379 0.36214463254490137 1.862645371275562e-09\n",
      "1560 0.6791443850267379 0.36214203270524603 0.0\n",
      "1580 0.6794589493551431 0.3621561508228124 0.0\n",
      "1600 0.6785152563699277 0.35950628327806816 0.0\n",
      "1620 0.6785152563699277 0.35953635084560776 0.0\n",
      "1640 0.6785152563699276 0.3621226792053789 0.0\n",
      "1660 0.6775715633847121 0.3593786619075622 0.0\n",
      "1680 0.6782006920415224 0.3594762001843485 0.0\n",
      "1700 0.6775715633847121 0.3619796995767783 0.0\n",
      "1720 0.6763133060710915 0.36190001827167145 0.0\n",
      "1740 0.6766278703994967 0.36193113323567233 0.0\n",
      "1760 0.6759987417426864 0.35918752431841316 0.0\n",
      "1780 0.6766278703994967 0.35925067994628795 0.0\n",
      "1800 0.6769424347279018 0.3593145356535072 0.0\n",
      "1820 0.6782006920415224 0.3595283529872877 0.0\n",
      "1840 0.677256999056307 0.3593599770053214 0.0\n",
      "1860 0.6775715633847121 0.35942448475052025 0.0\n",
      "1880 0.6775715633847121 0.35942448475052025 0.0\n",
      "1900 0.6778861277131174 0.3594904833675869 0.0\n",
      "1920 0.6778861277131174 0.3594904833675869 0.0\n",
      "1940 0.6766278703994967 0.35926537051797924 1.862645371275562e-09\n",
      "1960 0.6769424347279018 0.3593284373456017 0.0\n",
      "1980 0.6769424347279018 0.3593284373456017 0.0\n",
      "2000 0.6769424347279018 0.35934434172102403 0.0\n",
      "2020 0.6769424347279018 0.35934434172102403 0.0\n",
      "2040 0.6778861277131174 0.359487071545841 0.0\n",
      "2060 0.6763133060710915 0.3593136655317608 1.862645371275562e-09\n",
      "2080 0.6766278703994967 0.35932778364932716 0.0\n",
      "2100 0.6766278703994967 0.35932778364932716 0.0\n",
      "2120 0.6769424347279018 0.3593740326184919 0.0\n",
      "2140 0.677256999056307 0.35942111092884454 1.862645371275562e-09\n",
      "2160 0.677256999056307 0.35942111092884454 0.0\n",
      "2180 0.6769424347279018 0.3594047050971087 1.862645371275562e-09\n",
      "2200 0.6778861277131173 0.36207016392910507 0.0\n"
     ]
    }
   ],
   "source": [
    "import random\n",
    "from tqdm import tqdm\n",
    "num_epochs = 20000\n",
    "batch_size = 64\n",
    "model.train()\n",
    "validate_every = 20\n",
    "for i in range(num_epochs):\n",
    "    random.shuffle(train)\n",
    "    model.train()\n",
    "    total_loss = 0\n",
    "    for j in range(0, len(train), batch_size):\n",
    "        optimizer.zero_grad()   \n",
    "        text, text_lengths, y = make_batch(train[j:batch_size+j], char2int)\n",
    "        text = torch.from_numpy(text).to(device)\n",
    "        y = torch.tensor(y, dtype=torch.float32).to(device)\n",
    "        predictions = model(text, text_lengths).squeeze()  \n",
    "        loss = criterion(predictions, y)  \n",
    "        loss.backward()       \n",
    "        #update the weights\n",
    "        optimizer.step()   \n",
    "        total_loss += loss.item()\n",
    "    #validate\n",
    "    if i%validate_every == 0:\n",
    "        model.eval()\n",
    "        text, text_lengths, y = make_batch(valid, char2int)\n",
    "        text = torch.from_numpy(text).to(device)\n",
    "        y = torch.tensor(y, dtype=torch.float32).to(device)\n",
    "        predictions = model(text, text_lengths).squeeze()  \n",
    "    #     acc = binary_accuracy(predictions, y)   \n",
    "        auc1 = aucroc(predictions, y)\n",
    "        auc2 = aucprc(predictions, y)\n",
    "        print(i, auc1, auc2, total_loss)\n"
   ]
  },
  {
   "cell_type": "code",
   "execution_count": null,
   "metadata": {},
   "outputs": [],
   "source": [
    "len(y)"
   ]
  },
  {
   "cell_type": "code",
   "execution_count": 116,
   "metadata": {},
   "outputs": [],
   "source": [
    "text, text_lengths, y = make_batch(train[:BATCH_SIZE], char2int)\n",
    "text = torch.from_numpy(text).to(device)\n",
    "y = torch.tensor(y, dtype=torch.float32).to(device)"
   ]
  },
  {
   "cell_type": "code",
   "execution_count": 117,
   "metadata": {},
   "outputs": [],
   "source": [
    "predictions = model(text, text_lengths).squeeze()  "
   ]
  },
  {
   "cell_type": "code",
   "execution_count": 198,
   "metadata": {},
   "outputs": [],
   "source": [
    "\n",
    "y_true = y.cpu().detach().numpy()\n",
    "y_scores = predictions.cpu().detach().numpy()\n",
    "\n",
    "lr_precision, lr_recall, _ = precision_recall_curve(y_true, y_scores)\n",
    "auc(lr_recall, lr_precision)"
   ]
  },
  {
   "cell_type": "code",
   "execution_count": 199,
   "metadata": {},
   "outputs": [
    {
     "data": {
      "text/plain": [
       "0.5636770035961476"
      ]
     },
     "execution_count": 199,
     "metadata": {},
     "output_type": "execute_result"
    }
   ],
   "source": [
    "auc(lr_recall, lr_precision)"
   ]
  },
  {
   "cell_type": "code",
   "execution_count": 119,
   "metadata": {},
   "outputs": [
    {
     "data": {
      "text/plain": [
       "tensor(0.0386, device='cuda:0', grad_fn=<BinaryCrossEntropyBackward>)"
      ]
     },
     "execution_count": 119,
     "metadata": {},
     "output_type": "execute_result"
    }
   ],
   "source": [
    "loss = criterion(predictions, y)  \n",
    "loss"
   ]
  },
  {
   "cell_type": "code",
   "execution_count": 122,
   "metadata": {},
   "outputs": [
    {
     "data": {
      "text/plain": [
       "tensor(1., device='cuda:0')"
      ]
     },
     "execution_count": 122,
     "metadata": {},
     "output_type": "execute_result"
    }
   ],
   "source": [
    "acc = binary_accuracy(predictions, y)   \n",
    "acc"
   ]
  },
  {
   "cell_type": "code",
   "execution_count": 121,
   "metadata": {},
   "outputs": [],
   "source": [
    "loss.backward()       \n",
    "\n",
    "#update the weights\n",
    "optimizer.step()      \n"
   ]
  },
  {
   "cell_type": "markdown",
   "metadata": {},
   "source": [
    "As we're going to predict the next character in the sequence at each time step, we'll have to divide each sentence into\n",
    "\n",
    "- Input data\n",
    "    - The last input character should be excluded as it does not need to be fed into the model\n",
    "- Target/Ground Truth Label\n",
    "    - One time-step ahead of the Input data as this will be the \"correct answer\" for the model at each time step corresponding to the input data"
   ]
  },
  {
   "cell_type": "code",
   "execution_count": 6,
   "metadata": {},
   "outputs": [
    {
     "name": "stdout",
     "output_type": "stream",
     "text": [
      "Input Sequence: hey how are yo\n",
      "Target Sequence: ey how are you\n",
      "Input Sequence: good i am fine\n",
      "Target Sequence: ood i am fine \n",
      "Input Sequence: have a nice da\n",
      "Target Sequence: ave a nice day\n"
     ]
    }
   ],
   "source": [
    "# Creating lists that will hold our input and target sequences\n",
    "input_seq = []\n",
    "target_seq = []\n",
    "\n",
    "for i in range(len(text)):\n",
    "    # Remove last character for input sequence\n",
    "    input_seq.append(text[i][:-1])\n",
    "    \n",
    "    # Remove firsts character for target sequence\n",
    "    target_seq.append(text[i][1:])\n",
    "    print(\"Input Sequence: {}\\nTarget Sequence: {}\".format(input_seq[i], target_seq[i]))"
   ]
  },
  {
   "cell_type": "markdown",
   "metadata": {},
   "source": [
    "Now we can convert our input and target sequences to sequences of integers instead of characters by mapping them using the dictionaries we created above. This will allow us to one-hot-encode our input sequence subsequently."
   ]
  },
  {
   "cell_type": "code",
   "execution_count": 7,
   "metadata": {},
   "outputs": [],
   "source": [
    "for i in range(len(text)):\n",
    "    input_seq[i] = [char2int[character] for character in input_seq[i]]\n",
    "    target_seq[i] = [char2int[character] for character in target_seq[i]]"
   ]
  },
  {
   "cell_type": "markdown",
   "metadata": {},
   "source": [
    "Before encoding our input sequence into one-hot vectors, we'll define 3 key variables:\n",
    "\n",
    "- *dict_size*: The number of unique characters that we have in our text\n",
    "    - This will determine the one-hot vector size as each character will have an assigned index in that vector\n",
    "- *seq_len*: The length of the sequences that we're feeding into the model\n",
    "    - As we standardised the length of all our sentences to be equal to the longest sentences, this value will be the max length - 1 as we removed the last character input as well\n",
    "- *batch_size*: The number of sentences that we defined and are going to feed into the model as a batch"
   ]
  },
  {
   "cell_type": "code",
   "execution_count": 8,
   "metadata": {},
   "outputs": [],
   "source": [
    "dict_size = len(char2int)\n",
    "seq_len = maxlen - 1\n",
    "batch_size = len(text)\n",
    "\n",
    "def one_hot_encode(sequence, dict_size, seq_len, batch_size):\n",
    "    # Creating a multi-dimensional array of zeros with the desired output shape\n",
    "    features = np.zeros((batch_size, seq_len, dict_size), dtype=np.float32)\n",
    "    \n",
    "    # Replacing the 0 at the relevant character index with a 1 to represent that character\n",
    "    for i in range(batch_size):\n",
    "        for u in range(seq_len):\n",
    "            features[i, u, sequence[i][u]] = 1\n",
    "    return features"
   ]
  },
  {
   "cell_type": "markdown",
   "metadata": {},
   "source": [
    "We also defined a helper function that creates arrays of zeros for each character and replaces the corresponding character index with a **1**."
   ]
  },
  {
   "cell_type": "code",
   "execution_count": 9,
   "metadata": {},
   "outputs": [
    {
     "name": "stdout",
     "output_type": "stream",
     "text": [
      "Input shape: (3, 14, 17) --> (Batch Size, Sequence Length, One-Hot Encoding Size)\n"
     ]
    }
   ],
   "source": [
    "input_seq = one_hot_encode(input_seq, dict_size, seq_len, batch_size)\n",
    "print(\"Input shape: {} --> (Batch Size, Sequence Length, One-Hot Encoding Size)\".format(input_seq.shape))"
   ]
  },
  {
   "cell_type": "markdown",
   "metadata": {},
   "source": [
    "Since we're done with all the data pre-processing, we can now move the data from numpy arrays to PyTorch's very own data structure - **Torch Tensors**"
   ]
  },
  {
   "cell_type": "code",
   "execution_count": 10,
   "metadata": {},
   "outputs": [],
   "source": [
    "input_seq = torch.from_numpy(input_seq)\n",
    "target_seq = torch.Tensor(target_seq)"
   ]
  },
  {
   "cell_type": "markdown",
   "metadata": {},
   "source": [
    "Now we've reached the fun part of this project! We'll be defining the model using the Torch library, and this is where you can add or remove layers, be it fully connected layers, convolutational layers, vanilla RNN layers, LSTM layers, and many more! In this post, we'll be using the basic nn.rnn to demonstrate a simple example of how RNNs can be used.\n",
    "\n",
    "Before we start building the model, let's use a build in feature in PyTorch to check the device we're running on (CPU or GPU). This implementation will not require GPU as the training is really simple. However, as you progress on to large datasets and models with millions of trainable parameters, using the GPU will be very important to speed up your training."
   ]
  },
  {
   "cell_type": "code",
   "execution_count": 11,
   "metadata": {},
   "outputs": [
    {
     "name": "stdout",
     "output_type": "stream",
     "text": [
      "GPU is available\n"
     ]
    }
   ],
   "source": [
    "# torch.cuda.is_available() checks and returns a Boolean True if a GPU is available, else it'll return False\n",
    "is_cuda = torch.cuda.is_available()\n",
    "\n",
    "# If we have a GPU available, we'll set our device to GPU. We'll use this device variable later in our code.\n",
    "if is_cuda:\n",
    "    device = torch.device(\"cuda\")\n",
    "    print(\"GPU is available\")\n",
    "else:\n",
    "    device = torch.device(\"cpu\")\n",
    "    print(\"GPU not available, CPU used\")"
   ]
  },
  {
   "cell_type": "markdown",
   "metadata": {},
   "source": [
    "To start building our own neural network model, we can define a class that inherits PyTorch’s base class (nn.module) for all neural network modules. After doing so, we can start defining some variables and also the layers for our model under the constructor. For this model, we’ll only be using 1 layer of RNN followed by a fully connected layer. The fully connected layer will be in-charge of converting the RNN output to our desired output shape.\n",
    "\n",
    "We’ll also have to define the forward pass function under forward() as a class method. The order the forward function is sequentially executed, therefore we’ll have to pass the inputs and the zero-initialized hidden state through the RNN layer first, before passing the RNN outputs to the fully-connected layer. Note that we are using the layers that we defined in the constructor.\n",
    "\n",
    "The last method that we have to define is the method that we called earlier to initialize the hidden state - init_hidden(). This basically creates a tensor of zeros in the shape of our hidden states."
   ]
  },
  {
   "cell_type": "code",
   "execution_count": 12,
   "metadata": {},
   "outputs": [],
   "source": [
    "class Model(nn.Module):\n",
    "    def __init__(self, input_size, output_size, hidden_dim, n_layers):\n",
    "        super(Model, self).__init__()\n",
    "\n",
    "        # Defining some parameters\n",
    "        self.hidden_dim = hidden_dim\n",
    "        self.n_layers = n_layers\n",
    "\n",
    "        #Defining the layers\n",
    "        # RNN Layer\n",
    "        self.rnn = nn.RNN(input_size, hidden_dim, n_layers, batch_first=True)   \n",
    "        # Fully connected layer\n",
    "        self.fc = nn.Linear(hidden_dim, output_size)\n",
    "    \n",
    "    def forward(self, x):\n",
    "        \n",
    "        batch_size = x.size(0)\n",
    "\n",
    "        #Initializing hidden state for first input using method defined below\n",
    "        hidden = self.init_hidden(batch_size)\n",
    "\n",
    "        # Passing in the input and hidden state into the model and obtaining outputs\n",
    "        out, hidden = self.rnn(x, hidden)\n",
    "        \n",
    "        # Reshaping the outputs such that it can be fit into the fully connected layer\n",
    "        out = out.contiguous().view(-1, self.hidden_dim)\n",
    "        out = self.fc(out)\n",
    "        \n",
    "        return out, hidden\n",
    "    \n",
    "    def init_hidden(self, batch_size):\n",
    "        # This method generates the first hidden state of zeros which we'll use in the forward pass\n",
    "        hidden = torch.zeros(self.n_layers, batch_size, self.hidden_dim).to(device)\n",
    "         # We'll send the tensor holding the hidden state to the device we specified earlier as well\n",
    "        return hidden"
   ]
  },
  {
   "cell_type": "markdown",
   "metadata": {},
   "source": [
    "After defining the model above, we'll have to instantiate the model with the relevant parameters and define our hyperparamters as well. The hyperparameters we're defining below are:\n",
    "\n",
    "- *n_epochs*: Number of Epochs --> This refers to the number of times our model will go through the entire training dataset\n",
    "- *lr*: Learning Rate --> This affects the rate at which our model updates the weights in the cells each time backpropogation is done\n",
    "    - A smaller learning rate means that the model changes the values of the weight with a smaller magnitude\n",
    "    - A larger learning rate means that the weights are updated to a larger extent for each time step\n",
    "\n",
    "Similar to other neural networks, we have to define the optimizer and loss function as well. We’ll be using CrossEntropyLoss as the final output is basically a classification task."
   ]
  },
  {
   "cell_type": "code",
   "execution_count": 13,
   "metadata": {},
   "outputs": [],
   "source": [
    "# Instantiate the model with hyperparameters\n",
    "model = Model(input_size=dict_size, output_size=dict_size, hidden_dim=12, n_layers=1)\n",
    "# We'll also set the model to the device that we defined earlier (default is CPU)\n",
    "model = model.to(device)\n",
    "\n",
    "# Define hyperparameters\n",
    "n_epochs = 100\n",
    "lr=0.01\n",
    "\n",
    "# Define Loss, Optimizer\n",
    "criterion = nn.CrossEntropyLoss()\n",
    "optimizer = torch.optim.Adam(model.parameters(), lr=lr)"
   ]
  },
  {
   "cell_type": "markdown",
   "metadata": {},
   "source": [
    "Now we can begin our training! As we only have a few sentences, this training process is very fast. However, as we progress, larger datasets and deeper models mean that the input data is much larger and the number of parameters within the model that we have to compute is much more."
   ]
  },
  {
   "cell_type": "code",
   "execution_count": 14,
   "metadata": {
    "scrolled": true
   },
   "outputs": [
    {
     "name": "stdout",
     "output_type": "stream",
     "text": [
      "Epoch: 10/100............. Loss: 2.3973\n",
      "Epoch: 20/100............. Loss: 2.1102\n",
      "Epoch: 30/100............. Loss: 1.7422\n",
      "Epoch: 40/100............. Loss: 1.3161\n",
      "Epoch: 50/100............. Loss: 0.9390\n",
      "Epoch: 60/100............. Loss: 0.6450\n",
      "Epoch: 70/100............. Loss: 0.4317\n",
      "Epoch: 80/100............. Loss: 0.2941\n",
      "Epoch: 90/100............. Loss: 0.2117\n",
      "Epoch: 100/100............. Loss: 0.1626\n"
     ]
    }
   ],
   "source": [
    "# Training Run\n",
    "input_seq = input_seq.to(device)\n",
    "for epoch in range(1, n_epochs + 1):\n",
    "    optimizer.zero_grad() # Clears existing gradients from previous epoch\n",
    "    #input_seq = input_seq.to(device)\n",
    "    output, hidden = model(input_seq)\n",
    "    output = output.to(device)\n",
    "    target_seq = target_seq.to(device)\n",
    "    loss = criterion(output, target_seq.view(-1).long())\n",
    "    loss.backward() # Does backpropagation and calculates gradients\n",
    "    optimizer.step() # Updates the weights accordingly\n",
    "    \n",
    "    if epoch%10 == 0:\n",
    "        print('Epoch: {}/{}.............'.format(epoch, n_epochs), end=' ')\n",
    "        print(\"Loss: {:.4f}\".format(loss.item()))"
   ]
  },
  {
   "cell_type": "markdown",
   "metadata": {},
   "source": [
    "Let’s test our model now and see what kind of output we will get. Before that, let’s define some helper function to convert our model output back to text."
   ]
  },
  {
   "cell_type": "code",
   "execution_count": 15,
   "metadata": {},
   "outputs": [],
   "source": [
    "def predict(model, character):\n",
    "    # One-hot encoding our input to fit into the model\n",
    "    character = np.array([[char2int[c] for c in character]])\n",
    "    character = one_hot_encode(character, dict_size, character.shape[1], 1)\n",
    "    character = torch.from_numpy(character)\n",
    "    character = character.to(device)\n",
    "    \n",
    "    out, hidden = model(character)\n",
    "\n",
    "    prob = nn.functional.softmax(out[-1], dim=0).data\n",
    "    # Taking the class with the highest probability score from the output\n",
    "    char_ind = torch.max(prob, dim=0)[1].item()\n",
    "\n",
    "    return int2char[char_ind], hidden"
   ]
  },
  {
   "cell_type": "code",
   "execution_count": 16,
   "metadata": {},
   "outputs": [],
   "source": [
    "def sample(model, out_len, start='hey'):\n",
    "    model.eval() # eval mode\n",
    "    start = start.lower()\n",
    "    # First off, run through the starting characters\n",
    "    chars = [ch for ch in start]\n",
    "    size = out_len - len(chars)\n",
    "    # Now pass in the previous characters and get a new one\n",
    "    for ii in range(size):\n",
    "        char, h = predict(model, chars)\n",
    "        chars.append(char)\n",
    "\n",
    "    return ''.join(chars)"
   ]
  },
  {
   "cell_type": "code",
   "execution_count": 23,
   "metadata": {},
   "outputs": [
    {
     "data": {
      "text/plain": [
       "'good u am fine '"
      ]
     },
     "execution_count": 23,
     "metadata": {},
     "output_type": "execute_result"
    }
   ],
   "source": [
    "sample(model, 15, 'good u')"
   ]
  },
  {
   "cell_type": "markdown",
   "metadata": {},
   "source": [
    "As we can see, the model is able to come up with the sentence ‘good i am fine ‘ if we feed it with the words ‘good’, achieving what we intended for it to do!"
   ]
  },
  {
   "cell_type": "code",
   "execution_count": null,
   "metadata": {},
   "outputs": [],
   "source": []
  }
 ],
 "metadata": {
  "kernelspec": {
   "display_name": "Python 3",
   "language": "python",
   "name": "python3"
  },
  "language_info": {
   "codemirror_mode": {
    "name": "ipython",
    "version": 3
   },
   "file_extension": ".py",
   "mimetype": "text/x-python",
   "name": "python",
   "nbconvert_exporter": "python",
   "pygments_lexer": "ipython3",
   "version": "3.7.5"
  }
 },
 "nbformat": 4,
 "nbformat_minor": 2
}
